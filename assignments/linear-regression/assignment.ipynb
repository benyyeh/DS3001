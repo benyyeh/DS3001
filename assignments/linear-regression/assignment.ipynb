{
  "cells": [
    {
      "cell_type": "markdown",
      "id": "e0c7b14a-e5aa-4abc-b48b-b8a9d20dacac",
      "metadata": {
        "id": "e0c7b14a-e5aa-4abc-b48b-b8a9d20dacac"
      },
      "source": [
        "# Assignment: Linear Models\n",
        "## Foundations of Machine Learning\n",
        "## Do Q1 and one other question"
      ]
    },
    {
      "cell_type": "markdown",
      "id": "bf4826b0",
      "metadata": {
        "id": "bf4826b0"
      },
      "source": [
        "**Q0.** Please answer the following questions in your own words.\n",
        "\n",
        "1. What makes a model \"linear\"? \"Linear\" in what?\n",
        "> A model is linear when it assumes a linear relationship between explanatory variables in order to predict the outcome variable. It is linear in its weight of explanatory variables.\n",
        "2. How do you interpret the coefficient for a dummy/one-hot-encoded variable? (This is a trick question, and the trick involves how you handle the intercept of the model.)\n",
        "> The coefficient for a dummy variable shows the change in the outcome variable when the category represented by the dummy variable is present, relative to a baseline. With an intercept, the coefficient gives the adjustment in the outcome variable in comparision to the intercept when the dummy variable equals 1. \n",
        "3. Can linear regression be used for classification? Explain why, or why not.\n",
        "> Linear regression cannot be used for classification because it's used to predict continuous output, not categorical outcomes. Linear regression models assume a linear output, but classification outputs are constrained to specific classes. \n",
        "4. What are signs that your linear model is over-fitting?\n",
        "> Signs of an over-fitting linear model are high variance between training and test performance and high complexity/feature space. \n",
        "5. Clearly explain multi-colinearity using the two-stage least squares technique.\n",
        "> Multi-colinearity is when explanatory variables in a regression model are highly correlated, making their coefficients unstable and sensitive to small changes in the data. Two-stage least squares technique involves first, regressing each problematic explanatory variable on the other explanatory variables and second, using those predicted values in the final regression model.\n",
        "6. What are two ways to incorporate nonlinear relationships between your target/response/dependent/outcome variable $y$ and your features/control/response/independent variables $x$?\n",
        "> Adding polynomial terms of the features, nonlinear transformation of variables \n",
        "7. What is the interpretation of the intercept? A slope coefficient for a variable? The coefficient for a dummy/one-hot-encoded variable?\n",
        "> The intercept represents the expected value of the outcome variable when (all) the explanatory variable(s) equal 0. The slope coefficient represents the expected change in y for one unit increase in the explanatory variable when all other variables are held constant. The dummy coefficient represents the difference in y when the category is present compared to the base case, holding all other variables constant. "
      ]
    },
    {
      "cell_type": "code",
      "execution_count": 2,
      "id": "5d96d1a7",
      "metadata": {},
      "outputs": [],
      "source": [
        "import numpy as np\n",
        "import matplotlib.pyplot as plt\n",
        "import pandas as pd\n",
        "import seaborn as sns"
      ]
    },
    {
      "cell_type": "markdown",
      "id": "25bf83c6-ff44-42d6-9b33-8be1b945860d",
      "metadata": {
        "id": "25bf83c6-ff44-42d6-9b33-8be1b945860d"
      },
      "source": [
        "**Q1.** Load `./data/Q1_clean.csv`. The data include\n",
        "\n",
        "- `Price` per night\n",
        "- `Review Scores Rating`: The average rating for the property\n",
        "- `Neighbourhood `: The bourough of NYC. Note the space, or rename the variable.\n",
        "- `Property Type`: The kind of dwelling\n",
        "- `Room Type`: The kind of space being rented\n"
      ]
    },
    {
      "cell_type": "markdown",
      "id": "80172c76",
      "metadata": {},
      "source": [
        "\n",
        "1. Compute the average prices and scores by `Neighbourhood `; which bourough is the most expensive on average? Create a kernel density plot of price and log price, grouping by `Neighbourhood `.\n"
      ]
    },
    {
      "cell_type": "code",
      "execution_count": 3,
      "id": "6e739462",
      "metadata": {},
      "outputs": [
        {
          "data": {
            "text/html": [
              "<div>\n",
              "<style scoped>\n",
              "    .dataframe tbody tr th:only-of-type {\n",
              "        vertical-align: middle;\n",
              "    }\n",
              "\n",
              "    .dataframe tbody tr th {\n",
              "        vertical-align: top;\n",
              "    }\n",
              "\n",
              "    .dataframe thead tr th {\n",
              "        text-align: left;\n",
              "    }\n",
              "\n",
              "    .dataframe thead tr:last-of-type th {\n",
              "        text-align: right;\n",
              "    }\n",
              "</style>\n",
              "<table border=\"1\" class=\"dataframe\">\n",
              "  <thead>\n",
              "    <tr>\n",
              "      <th></th>\n",
              "      <th colspan=\"8\" halign=\"left\">Price</th>\n",
              "    </tr>\n",
              "    <tr>\n",
              "      <th></th>\n",
              "      <th>count</th>\n",
              "      <th>mean</th>\n",
              "      <th>std</th>\n",
              "      <th>min</th>\n",
              "      <th>25%</th>\n",
              "      <th>50%</th>\n",
              "      <th>75%</th>\n",
              "      <th>max</th>\n",
              "    </tr>\n",
              "    <tr>\n",
              "      <th>Neighbourhood</th>\n",
              "      <th></th>\n",
              "      <th></th>\n",
              "      <th></th>\n",
              "      <th></th>\n",
              "      <th></th>\n",
              "      <th></th>\n",
              "      <th></th>\n",
              "      <th></th>\n",
              "    </tr>\n",
              "  </thead>\n",
              "  <tbody>\n",
              "    <tr>\n",
              "      <th>Bronx</th>\n",
              "      <td>217.0</td>\n",
              "      <td>75.276498</td>\n",
              "      <td>39.755468</td>\n",
              "      <td>10.0</td>\n",
              "      <td>50.00</td>\n",
              "      <td>60.0</td>\n",
              "      <td>90.0</td>\n",
              "      <td>244.0</td>\n",
              "    </tr>\n",
              "    <tr>\n",
              "      <th>Brooklyn</th>\n",
              "      <td>8487.0</td>\n",
              "      <td>127.747378</td>\n",
              "      <td>106.038466</td>\n",
              "      <td>20.0</td>\n",
              "      <td>75.00</td>\n",
              "      <td>100.0</td>\n",
              "      <td>150.0</td>\n",
              "      <td>4500.0</td>\n",
              "    </tr>\n",
              "    <tr>\n",
              "      <th>Manhattan</th>\n",
              "      <td>11763.0</td>\n",
              "      <td>183.664286</td>\n",
              "      <td>170.434606</td>\n",
              "      <td>25.0</td>\n",
              "      <td>103.00</td>\n",
              "      <td>150.0</td>\n",
              "      <td>214.0</td>\n",
              "      <td>10000.0</td>\n",
              "    </tr>\n",
              "    <tr>\n",
              "      <th>Queens</th>\n",
              "      <td>1590.0</td>\n",
              "      <td>96.857233</td>\n",
              "      <td>61.712648</td>\n",
              "      <td>25.0</td>\n",
              "      <td>60.00</td>\n",
              "      <td>80.0</td>\n",
              "      <td>115.0</td>\n",
              "      <td>950.0</td>\n",
              "    </tr>\n",
              "    <tr>\n",
              "      <th>Staten Island</th>\n",
              "      <td>96.0</td>\n",
              "      <td>146.166667</td>\n",
              "      <td>508.462029</td>\n",
              "      <td>35.0</td>\n",
              "      <td>54.75</td>\n",
              "      <td>71.0</td>\n",
              "      <td>99.0</td>\n",
              "      <td>5000.0</td>\n",
              "    </tr>\n",
              "  </tbody>\n",
              "</table>\n",
              "</div>"
            ],
            "text/plain": [
              "                  Price                                                      \\\n",
              "                  count        mean         std   min     25%    50%    75%   \n",
              "Neighbourhood                                                                 \n",
              "Bronx             217.0   75.276498   39.755468  10.0   50.00   60.0   90.0   \n",
              "Brooklyn         8487.0  127.747378  106.038466  20.0   75.00  100.0  150.0   \n",
              "Manhattan       11763.0  183.664286  170.434606  25.0  103.00  150.0  214.0   \n",
              "Queens           1590.0   96.857233   61.712648  25.0   60.00   80.0  115.0   \n",
              "Staten Island      96.0  146.166667  508.462029  35.0   54.75   71.0   99.0   \n",
              "\n",
              "                         \n",
              "                    max  \n",
              "Neighbourhood            \n",
              "Bronx             244.0  \n",
              "Brooklyn         4500.0  \n",
              "Manhattan       10000.0  \n",
              "Queens            950.0  \n",
              "Staten Island    5000.0  "
            ]
          },
          "execution_count": 3,
          "metadata": {},
          "output_type": "execute_result"
        }
      ],
      "source": [
        "df = pd.read_csv('./data/Q1_clean.csv')\n",
        "df.head()\n",
        "\n",
        "df.loc[:,['Price','Neighbourhood ']].groupby('Neighbourhood ').describe()"
      ]
    },
    {
      "cell_type": "markdown",
      "id": "ae3a9d72",
      "metadata": {},
      "source": [
        "> The bourough Manhattan is most expensive on average, with a mean of $183.66 a night. "
      ]
    },
    {
      "cell_type": "code",
      "execution_count": 4,
      "id": "79f1d802",
      "metadata": {},
      "outputs": [
        {
          "data": {
            "image/png": "[encoded data removed]",
            "text/plain": [
              "<Figure size 640x480 with 1 Axes>"
            ]
          },
          "metadata": {},
          "output_type": "display_data"
        },
        {
          "data": {
            "image/png": "[encoded data removed]",
            "text/plain": [
              "<Figure size 640x480 with 1 Axes>"
            ]
          },
          "metadata": {},
          "output_type": "display_data"
        }
      ],
      "source": [
        "sns.kdeplot(x=df['Price'], hue=df['Neighbourhood ']).set_title(\"Kernel density plot price\")\n",
        "plt.show()\n",
        "\n",
        "sns.kdeplot(x=np.log(df['Price']), hue=df['Neighbourhood ']).set_title(\"Kernel density plot log price\")\n",
        "plt.show()"
      ]
    },
    {
      "cell_type": "markdown",
      "id": "56de1d76",
      "metadata": {},
      "source": [
        "2. Regress price on `Neighbourhood ` by creating the appropriate dummy/one-hot-encoded variables, without an intercept in the linear model and using all the data. Compare the coefficients in the regression to the table from part 1. What pattern do you see? What are the coefficients in a regression of a continuous variable on one categorical variable?"
      ]
    },
    {
      "cell_type": "code",
      "execution_count": 7,
      "id": "c2062400",
      "metadata": {},
      "outputs": [
        {
          "data": {
            "text/html": [
              "<div>\n",
              "<style scoped>\n",
              "    .dataframe tbody tr th:only-of-type {\n",
              "        vertical-align: middle;\n",
              "    }\n",
              "\n",
              "    .dataframe tbody tr th {\n",
              "        vertical-align: top;\n",
              "    }\n",
              "\n",
              "    .dataframe thead th {\n",
              "        text-align: right;\n",
              "    }\n",
              "</style>\n",
              "<table border=\"1\" class=\"dataframe\">\n",
              "  <thead>\n",
              "    <tr style=\"text-align: right;\">\n",
              "      <th></th>\n",
              "      <th>var</th>\n",
              "      <th>coef</th>\n",
              "    </tr>\n",
              "  </thead>\n",
              "  <tbody>\n",
              "    <tr>\n",
              "      <th>0</th>\n",
              "      <td>Bronx</td>\n",
              "      <td>75.276498</td>\n",
              "    </tr>\n",
              "    <tr>\n",
              "      <th>1</th>\n",
              "      <td>Brooklyn</td>\n",
              "      <td>127.747378</td>\n",
              "    </tr>\n",
              "    <tr>\n",
              "      <th>2</th>\n",
              "      <td>Manhattan</td>\n",
              "      <td>183.664286</td>\n",
              "    </tr>\n",
              "    <tr>\n",
              "      <th>3</th>\n",
              "      <td>Queens</td>\n",
              "      <td>96.857233</td>\n",
              "    </tr>\n",
              "    <tr>\n",
              "      <th>4</th>\n",
              "      <td>Staten Island</td>\n",
              "      <td>146.166667</td>\n",
              "    </tr>\n",
              "  </tbody>\n",
              "</table>\n",
              "</div>"
            ],
            "text/plain": [
              "             var        coef\n",
              "0          Bronx   75.276498\n",
              "1       Brooklyn  127.747378\n",
              "2      Manhattan  183.664286\n",
              "3         Queens   96.857233\n",
              "4  Staten Island  146.166667"
            ]
          },
          "execution_count": 7,
          "metadata": {},
          "output_type": "execute_result"
        }
      ],
      "source": [
        "from sklearn import linear_model\n",
        "\n",
        "y = df['Price']\n",
        "X = pd.get_dummies(df['Neighbourhood '], dtype='int')\n",
        "\n",
        "reg_model = linear_model.LinearRegression(fit_intercept=False).fit(X,y)\n",
        "results = pd.DataFrame({'var':reg_model.feature_names_in_, 'coef': reg_model.coef_})\n",
        "results"
      ]
    },
    {
      "cell_type": "markdown",
      "id": "2c6bf58c",
      "metadata": {},
      "source": [
        "> The coefficients of the neighborhood dummies is the same as the means by neighborhood. The coefficients in a regression of a continuous variable on one categorical variable is just group averages. "
      ]
    },
    {
      "cell_type": "markdown",
      "id": "20643fef",
      "metadata": {},
      "source": [
        "3. Repeat part 2, but leave an intercept in the linear model. How do you have to handle the creation of the dummies differently? What is the intercept? Interpret the coefficients. How can I get the coefficients in part 2 from these new coefficients?"
      ]
    },
    {
      "cell_type": "code",
      "execution_count": 9,
      "id": "122717b2",
      "metadata": {},
      "outputs": [
        {
          "data": {
            "text/html": [
              "<div>\n",
              "<style scoped>\n",
              "    .dataframe tbody tr th:only-of-type {\n",
              "        vertical-align: middle;\n",
              "    }\n",
              "\n",
              "    .dataframe tbody tr th {\n",
              "        vertical-align: top;\n",
              "    }\n",
              "\n",
              "    .dataframe thead th {\n",
              "        text-align: right;\n",
              "    }\n",
              "</style>\n",
              "<table border=\"1\" class=\"dataframe\">\n",
              "  <thead>\n",
              "    <tr style=\"text-align: right;\">\n",
              "      <th></th>\n",
              "      <th>var</th>\n",
              "      <th>coef</th>\n",
              "    </tr>\n",
              "  </thead>\n",
              "  <tbody>\n",
              "    <tr>\n",
              "      <th>0</th>\n",
              "      <td>Brooklyn</td>\n",
              "      <td>52.470881</td>\n",
              "    </tr>\n",
              "    <tr>\n",
              "      <th>1</th>\n",
              "      <td>Manhattan</td>\n",
              "      <td>108.387789</td>\n",
              "    </tr>\n",
              "    <tr>\n",
              "      <th>2</th>\n",
              "      <td>Queens</td>\n",
              "      <td>21.580735</td>\n",
              "    </tr>\n",
              "    <tr>\n",
              "      <th>3</th>\n",
              "      <td>Staten Island</td>\n",
              "      <td>70.890169</td>\n",
              "    </tr>\n",
              "  </tbody>\n",
              "</table>\n",
              "</div>"
            ],
            "text/plain": [
              "             var        coef\n",
              "0       Brooklyn   52.470881\n",
              "1      Manhattan  108.387789\n",
              "2         Queens   21.580735\n",
              "3  Staten Island   70.890169"
            ]
          },
          "execution_count": 9,
          "metadata": {},
          "output_type": "execute_result"
        }
      ],
      "source": [
        "y = df['Price']\n",
        "X = pd.get_dummies(df['Neighbourhood '], dtype='int', drop_first=True)\n",
        "\n",
        "reg_model = linear_model.LinearRegression(fit_intercept=True).fit(X,y)\n",
        "results = pd.DataFrame({'var':reg_model.feature_names_in_, 'coef': reg_model.coef_})\n",
        "results"
      ]
    },
    {
      "cell_type": "markdown",
      "id": "fb47f889",
      "metadata": {},
      "source": [
        "> The creation of dummies involved dropping the Bronx, making it the reference category."
      ]
    },
    {
      "cell_type": "code",
      "execution_count": 13,
      "id": "438b7b87",
      "metadata": {},
      "outputs": [
        {
          "data": {
            "text/plain": [
              "75.27649769584711"
            ]
          },
          "execution_count": 13,
          "metadata": {},
          "output_type": "execute_result"
        }
      ],
      "source": [
        "reg_model.intercept_"
      ]
    },
    {
      "cell_type": "markdown",
      "id": "6de3f029",
      "metadata": {},
      "source": [
        "> The interecept is the same as the Bronx coefficient of the original regression. All coefficients from the new regression are the original coefficients minus the intercept. "
      ]
    },
    {
      "cell_type": "markdown",
      "id": "d10e72ad",
      "metadata": {},
      "source": [
        "4. Split the sample 80/20 into a training and a test set. Run a regression of `Price` on `Review Scores Rating` and `Neighbourhood `. What is the $R^2$ and RMSE on the test set? What is the coefficient on `Review Scores Rating`? What is the most expensive kind of property you can rent?"
      ]
    },
    {
      "cell_type": "code",
      "execution_count": 50,
      "id": "a105919a",
      "metadata": {},
      "outputs": [
        {
          "name": "stdout",
          "output_type": "stream",
          "text": [
            "Rsq:  0.06543249195348955\n",
            "RMSE:  129.02645184198352\n"
          ]
        },
        {
          "data": {
            "text/html": [
              "<div>\n",
              "<style scoped>\n",
              "    .dataframe tbody tr th:only-of-type {\n",
              "        vertical-align: middle;\n",
              "    }\n",
              "\n",
              "    .dataframe tbody tr th {\n",
              "        vertical-align: top;\n",
              "    }\n",
              "\n",
              "    .dataframe thead th {\n",
              "        text-align: right;\n",
              "    }\n",
              "</style>\n",
              "<table border=\"1\" class=\"dataframe\">\n",
              "  <thead>\n",
              "    <tr style=\"text-align: right;\">\n",
              "      <th></th>\n",
              "      <th>variable</th>\n",
              "      <th>coefficient</th>\n",
              "    </tr>\n",
              "  </thead>\n",
              "  <tbody>\n",
              "    <tr>\n",
              "      <th>0</th>\n",
              "      <td>Review Scores Rating</td>\n",
              "      <td>1.070751</td>\n",
              "    </tr>\n",
              "    <tr>\n",
              "      <th>1</th>\n",
              "      <td>Bronx</td>\n",
              "      <td>-21.715003</td>\n",
              "    </tr>\n",
              "    <tr>\n",
              "      <th>2</th>\n",
              "      <td>Brooklyn</td>\n",
              "      <td>28.910140</td>\n",
              "    </tr>\n",
              "    <tr>\n",
              "      <th>3</th>\n",
              "      <td>Manhattan</td>\n",
              "      <td>84.866082</td>\n",
              "    </tr>\n",
              "    <tr>\n",
              "      <th>4</th>\n",
              "      <td>Queens</td>\n",
              "      <td>-1.809766</td>\n",
              "    </tr>\n",
              "    <tr>\n",
              "      <th>5</th>\n",
              "      <td>Staten Island</td>\n",
              "      <td>67.817606</td>\n",
              "    </tr>\n",
              "  </tbody>\n",
              "</table>\n",
              "</div>"
            ],
            "text/plain": [
              "               variable  coefficient\n",
              "0  Review Scores Rating     1.070751\n",
              "1                 Bronx   -21.715003\n",
              "2              Brooklyn    28.910140\n",
              "3             Manhattan    84.866082\n",
              "4                Queens    -1.809766\n",
              "5         Staten Island    67.817606"
            ]
          },
          "execution_count": 50,
          "metadata": {},
          "output_type": "execute_result"
        }
      ],
      "source": [
        "from sklearn.model_selection import train_test_split\n",
        "\n",
        "y = df['Price']\n",
        "X = df.loc[:,['Review Scores Rating', 'Neighbourhood '] ]\n",
        "X_train, X_test, y_train, y_test = train_test_split(X,y, test_size=.2)\n",
        "\n",
        "Z_train = pd.concat([X_train['Review Scores Rating'], pd.get_dummies(X_train['Neighbourhood '], dtype='int')], axis = 1)\n",
        "Z_test = pd.concat([X_test['Review Scores Rating'], pd.get_dummies(X_test['Neighbourhood '], dtype='int')], axis = 1)\n",
        "reg = linear_model.LinearRegression(fit_intercept=False).fit(Z_train,y_train)\n",
        "\n",
        "y_hat = reg.predict(Z_test)\n",
        "print('Rsq: ', reg.score(Z_test,y_test)) \n",
        "rmse = np.sqrt(np.mean( (y_test - y_hat)**2))\n",
        "print('RMSE: ', rmse)\n",
        "\n",
        "results = pd.DataFrame({'variable':reg.feature_names_in_, 'coefficient': reg.coef_}) \n",
        "results"
      ]
    },
    {
      "cell_type": "markdown",
      "id": "3d633c2d",
      "metadata": {},
      "source": [
        "> The most expensive kind of property you can rent is 100 rated property in Manhattan."
      ]
    },
    {
      "cell_type": "markdown",
      "id": "2e3ac44a",
      "metadata": {},
      "source": [
        "5. Split the sample 80/20 into a training and a test set. Run a regression of `Price` on `Review Scores Rating` and `Neighbourhood ` and `Property Type`. What is the $R^2$ and RMSE on the test set? What is the coefficient on `Review Scores Rating`? What is the most expensive kind of property you can rent?"
      ]
    },
    {
      "cell_type": "code",
      "execution_count": 54,
      "id": "215f28b7",
      "metadata": {},
      "outputs": [
        {
          "name": "stdout",
          "output_type": "stream",
          "text": [
            "Rsq:  0.08727863020080984\n",
            "RMSE:  122.43541468311301\n"
          ]
        },
        {
          "data": {
            "text/html": [
              "<div>\n",
              "<style scoped>\n",
              "    .dataframe tbody tr th:only-of-type {\n",
              "        vertical-align: middle;\n",
              "    }\n",
              "\n",
              "    .dataframe tbody tr th {\n",
              "        vertical-align: top;\n",
              "    }\n",
              "\n",
              "    .dataframe thead th {\n",
              "        text-align: right;\n",
              "    }\n",
              "</style>\n",
              "<table border=\"1\" class=\"dataframe\">\n",
              "  <thead>\n",
              "    <tr style=\"text-align: right;\">\n",
              "      <th></th>\n",
              "      <th>variable</th>\n",
              "      <th>coefficient</th>\n",
              "    </tr>\n",
              "  </thead>\n",
              "  <tbody>\n",
              "    <tr>\n",
              "      <th>0</th>\n",
              "      <td>Review Scores Rating</td>\n",
              "      <td>1.009698</td>\n",
              "    </tr>\n",
              "    <tr>\n",
              "      <th>1</th>\n",
              "      <td>Bronx</td>\n",
              "      <td>-35.459242</td>\n",
              "    </tr>\n",
              "    <tr>\n",
              "      <th>2</th>\n",
              "      <td>Brooklyn</td>\n",
              "      <td>24.344705</td>\n",
              "    </tr>\n",
              "    <tr>\n",
              "      <th>3</th>\n",
              "      <td>Manhattan</td>\n",
              "      <td>85.813847</td>\n",
              "    </tr>\n",
              "    <tr>\n",
              "      <th>4</th>\n",
              "      <td>Queens</td>\n",
              "      <td>-7.477673</td>\n",
              "    </tr>\n",
              "    <tr>\n",
              "      <th>5</th>\n",
              "      <td>Staten Island</td>\n",
              "      <td>48.220589</td>\n",
              "    </tr>\n",
              "    <tr>\n",
              "      <th>6</th>\n",
              "      <td>Apartment</td>\n",
              "      <td>3.797921</td>\n",
              "    </tr>\n",
              "    <tr>\n",
              "      <th>7</th>\n",
              "      <td>Bed &amp; Breakfast</td>\n",
              "      <td>-28.796351</td>\n",
              "    </tr>\n",
              "    <tr>\n",
              "      <th>8</th>\n",
              "      <td>Boat</td>\n",
              "      <td>59.754243</td>\n",
              "    </tr>\n",
              "    <tr>\n",
              "      <th>9</th>\n",
              "      <td>Bungalow</td>\n",
              "      <td>58.925249</td>\n",
              "    </tr>\n",
              "    <tr>\n",
              "      <th>10</th>\n",
              "      <td>Cabin</td>\n",
              "      <td>38.493030</td>\n",
              "    </tr>\n",
              "    <tr>\n",
              "      <th>11</th>\n",
              "      <td>Camper/RV</td>\n",
              "      <td>-2.903991</td>\n",
              "    </tr>\n",
              "    <tr>\n",
              "      <th>12</th>\n",
              "      <td>Castle</td>\n",
              "      <td>-36.783655</td>\n",
              "    </tr>\n",
              "    <tr>\n",
              "      <th>13</th>\n",
              "      <td>Chalet</td>\n",
              "      <td>-25.304814</td>\n",
              "    </tr>\n",
              "    <tr>\n",
              "      <th>14</th>\n",
              "      <td>Condominium</td>\n",
              "      <td>110.167236</td>\n",
              "    </tr>\n",
              "    <tr>\n",
              "      <th>15</th>\n",
              "      <td>Dorm</td>\n",
              "      <td>-46.100430</td>\n",
              "    </tr>\n",
              "    <tr>\n",
              "      <th>16</th>\n",
              "      <td>House</td>\n",
              "      <td>35.704179</td>\n",
              "    </tr>\n",
              "    <tr>\n",
              "      <th>17</th>\n",
              "      <td>Hut</td>\n",
              "      <td>-130.725466</td>\n",
              "    </tr>\n",
              "    <tr>\n",
              "      <th>18</th>\n",
              "      <td>Lighthouse</td>\n",
              "      <td>-86.314512</td>\n",
              "    </tr>\n",
              "    <tr>\n",
              "      <th>19</th>\n",
              "      <td>Loft</td>\n",
              "      <td>64.601952</td>\n",
              "    </tr>\n",
              "    <tr>\n",
              "      <th>20</th>\n",
              "      <td>Other</td>\n",
              "      <td>0.162838</td>\n",
              "    </tr>\n",
              "    <tr>\n",
              "      <th>21</th>\n",
              "      <td>Townhouse</td>\n",
              "      <td>50.553115</td>\n",
              "    </tr>\n",
              "    <tr>\n",
              "      <th>22</th>\n",
              "      <td>Treehouse</td>\n",
              "      <td>13.152537</td>\n",
              "    </tr>\n",
              "    <tr>\n",
              "      <th>23</th>\n",
              "      <td>Villa</td>\n",
              "      <td>37.059144</td>\n",
              "    </tr>\n",
              "  </tbody>\n",
              "</table>\n",
              "</div>"
            ],
            "text/plain": [
              "                variable  coefficient\n",
              "0   Review Scores Rating     1.009698\n",
              "1                  Bronx   -35.459242\n",
              "2               Brooklyn    24.344705\n",
              "3              Manhattan    85.813847\n",
              "4                 Queens    -7.477673\n",
              "5          Staten Island    48.220589\n",
              "6              Apartment     3.797921\n",
              "7        Bed & Breakfast   -28.796351\n",
              "8                   Boat    59.754243\n",
              "9               Bungalow    58.925249\n",
              "10                 Cabin    38.493030\n",
              "11             Camper/RV    -2.903991\n",
              "12                Castle   -36.783655\n",
              "13                Chalet   -25.304814\n",
              "14           Condominium   110.167236\n",
              "15                  Dorm   -46.100430\n",
              "16                 House    35.704179\n",
              "17                   Hut  -130.725466\n",
              "18            Lighthouse   -86.314512\n",
              "19                  Loft    64.601952\n",
              "20                 Other     0.162838\n",
              "21             Townhouse    50.553115\n",
              "22             Treehouse    13.152537\n",
              "23                 Villa    37.059144"
            ]
          },
          "execution_count": 54,
          "metadata": {},
          "output_type": "execute_result"
        }
      ],
      "source": [
        "y = df['Price']\n",
        "X = df.loc[:,['Review Scores Rating', 'Neighbourhood ', 'Property Type'] ]\n",
        "X_train, X_test, y_train, y_test = train_test_split(X,y, test_size=.2)\n",
        "\n",
        "Z_train = pd.concat([X_train['Review Scores Rating'], pd.get_dummies(X_train['Neighbourhood '], dtype='int'),pd.get_dummies(X_train['Property Type'], dtype='int')], axis = 1)\n",
        "Z_test = pd.concat([X_test['Review Scores Rating'], pd.get_dummies(X_test['Neighbourhood '], dtype='int'),pd.get_dummies(X_test['Property Type'], dtype='int')],axis = 1)\n",
        "Z_test = Z_test.reindex(columns=Z_train.columns, fill_value=0)\n",
        "reg = linear_model.LinearRegression(fit_intercept=False).fit(Z_train,y_train)\n",
        "y_hat = reg.predict(Z_test)\n",
        "\n",
        "print('Rsq: ', reg.score(Z_test,y_test)) # R2\n",
        "rmse = np.sqrt( np.mean( (y_test - y_hat)**2 ))\n",
        "print('RMSE: ', rmse) \n",
        "\n",
        "results = pd.DataFrame({'variable':reg.feature_names_in_, 'coefficient': reg.coef_}) \n",
        "results"
      ]
    },
    {
      "cell_type": "markdown",
      "id": "a0e40d29",
      "metadata": {},
      "source": [
        "> The most expensive kind of property you can rent is a 100 rated Condominium in Manhattan"
      ]
    },
    {
      "cell_type": "markdown",
      "id": "7a801f84",
      "metadata": {},
      "source": [
        "6. What does the coefficient on `Review Scores Rating` mean if it changes from part 4 to 5? Hint: Think about how multilple linear regression works."
      ]
    },
    {
      "cell_type": "markdown",
      "id": "7474fc85",
      "metadata": {},
      "source": [
        "> If the coefficient on Review Scores Rating changes from part 4 to 5, it means that Review Scores Rating became less powerful of a predictor after introducing Property Type. Some of the price variation can be explained by Property T1ype and therefore it became a more powerful predictor, decreasing the coefficient of Review Scores Rating"
      ]
    }
  ],
  "metadata": {
    "colab": {
      "provenance": []
    },
    "kernelspec": {
      "display_name": "2002env",
      "language": "python",
      "name": "venv"
    },
    "language_info": {
      "codemirror_mode": {
        "name": "ipython",
        "version": 3
      },
      "file_extension": ".py",
      "mimetype": "text/x-python",
      "name": "python",
      "nbconvert_exporter": "python",
      "pygments_lexer": "ipython3",
      "version": "3.12.6"
    }
  },
  "nbformat": 4,
  "nbformat_minor": 5
}
